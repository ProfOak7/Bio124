{
 "cells": [
  {
   "cell_type": "code",
   "execution_count": 46,
   "id": "4dd93154-2d9d-487a-9a52-19bdd64ef97f",
   "metadata": {},
   "outputs": [],
   "source": [
    "# importing libraries\n",
    "import matplotlib.pyplot as plt\n",
    "import pandas as pd\n",
    "from statistics import mean, stdev\n",
    "from scipy.stats import sem"
   ]
  },
  {
   "cell_type": "code",
   "execution_count": 54,
   "id": "ab6027ee-ccb9-4011-9002-aa29abffeb98",
   "metadata": {},
   "outputs": [
    {
     "data": {
      "text/html": [
       "<div>\n",
       "<style scoped>\n",
       "    .dataframe tbody tr th:only-of-type {\n",
       "        vertical-align: middle;\n",
       "    }\n",
       "\n",
       "    .dataframe tbody tr th {\n",
       "        vertical-align: top;\n",
       "    }\n",
       "\n",
       "    .dataframe thead th {\n",
       "        text-align: right;\n",
       "    }\n",
       "</style>\n",
       "<table border=\"1\" class=\"dataframe\">\n",
       "  <thead>\n",
       "    <tr style=\"text-align: right;\">\n",
       "      <th></th>\n",
       "      <th>1_Fasting</th>\n",
       "      <th>2_Fasting</th>\n",
       "      <th>3_Fasting</th>\n",
       "      <th>4_Fasting</th>\n",
       "      <th>5_nonfasting</th>\n",
       "      <th>6_nonfasting</th>\n",
       "      <th>7_nonfasting</th>\n",
       "      <th>8_nonfasting</th>\n",
       "      <th>Fasting_avg</th>\n",
       "      <th>Fasting_sem</th>\n",
       "      <th>Nonfasting_avg</th>\n",
       "      <th>Nonfasting_sem</th>\n",
       "    </tr>\n",
       "    <tr>\n",
       "      <th>Group</th>\n",
       "      <th></th>\n",
       "      <th></th>\n",
       "      <th></th>\n",
       "      <th></th>\n",
       "      <th></th>\n",
       "      <th></th>\n",
       "      <th></th>\n",
       "      <th></th>\n",
       "      <th></th>\n",
       "      <th></th>\n",
       "      <th></th>\n",
       "      <th></th>\n",
       "    </tr>\n",
       "  </thead>\n",
       "  <tbody>\n",
       "    <tr>\n",
       "      <th>0min</th>\n",
       "      <td>72.0</td>\n",
       "      <td>59.0</td>\n",
       "      <td>75.0</td>\n",
       "      <td>84.0</td>\n",
       "      <td>86.0</td>\n",
       "      <td>101.0</td>\n",
       "      <td>103.0</td>\n",
       "      <td>73.0</td>\n",
       "      <td>72.50</td>\n",
       "      <td>5.172040</td>\n",
       "      <td>90.75</td>\n",
       "      <td>7.028217</td>\n",
       "    </tr>\n",
       "    <tr>\n",
       "      <th>30min</th>\n",
       "      <td>95.0</td>\n",
       "      <td>113.0</td>\n",
       "      <td>132.0</td>\n",
       "      <td>115.0</td>\n",
       "      <td>203.0</td>\n",
       "      <td>159.0</td>\n",
       "      <td>127.0</td>\n",
       "      <td>89.0</td>\n",
       "      <td>113.75</td>\n",
       "      <td>7.564996</td>\n",
       "      <td>144.50</td>\n",
       "      <td>24.185050</td>\n",
       "    </tr>\n",
       "    <tr>\n",
       "      <th>60min</th>\n",
       "      <td>115.0</td>\n",
       "      <td>136.0</td>\n",
       "      <td>176.0</td>\n",
       "      <td>140.0</td>\n",
       "      <td>208.0</td>\n",
       "      <td>122.0</td>\n",
       "      <td>129.0</td>\n",
       "      <td>145.0</td>\n",
       "      <td>141.75</td>\n",
       "      <td>12.664748</td>\n",
       "      <td>151.00</td>\n",
       "      <td>19.600170</td>\n",
       "    </tr>\n",
       "    <tr>\n",
       "      <th>90min</th>\n",
       "      <td>NaN</td>\n",
       "      <td>NaN</td>\n",
       "      <td>NaN</td>\n",
       "      <td>NaN</td>\n",
       "      <td>NaN</td>\n",
       "      <td>NaN</td>\n",
       "      <td>NaN</td>\n",
       "      <td>NaN</td>\n",
       "      <td>NaN</td>\n",
       "      <td>NaN</td>\n",
       "      <td>NaN</td>\n",
       "      <td>NaN</td>\n",
       "    </tr>\n",
       "  </tbody>\n",
       "</table>\n",
       "</div>"
      ],
      "text/plain": [
       "       1_Fasting  2_Fasting  3_Fasting  4_Fasting  5_nonfasting  6_nonfasting  \\\n",
       "Group                                                                           \n",
       "0min        72.0       59.0       75.0       84.0          86.0         101.0   \n",
       "30min       95.0      113.0      132.0      115.0         203.0         159.0   \n",
       "60min      115.0      136.0      176.0      140.0         208.0         122.0   \n",
       "90min        NaN        NaN        NaN        NaN           NaN           NaN   \n",
       "\n",
       "       7_nonfasting  8_nonfasting  Fasting_avg  Fasting_sem  Nonfasting_avg  \\\n",
       "Group                                                                         \n",
       "0min          103.0          73.0        72.50     5.172040           90.75   \n",
       "30min         127.0          89.0       113.75     7.564996          144.50   \n",
       "60min         129.0         145.0       141.75    12.664748          151.00   \n",
       "90min           NaN           NaN          NaN          NaN             NaN   \n",
       "\n",
       "       Nonfasting_sem  \n",
       "Group                  \n",
       "0min         7.028217  \n",
       "30min       24.185050  \n",
       "60min       19.600170  \n",
       "90min             NaN  "
      ]
     },
     "execution_count": 54,
     "metadata": {},
     "output_type": "execute_result"
    }
   ],
   "source": [
    "df = pd.read_excel (r'./Glucose Tolerance Testing (3).xlsx', index_col=0) \n",
    "df"
   ]
  },
  {
   "cell_type": "code",
   "execution_count": 56,
   "id": "de504ee6-c7ac-4d84-b76f-9eb59682e0c1",
   "metadata": {},
   "outputs": [
    {
     "data": {
      "text/plain": [
       "Text(0, 0.5, 'Absorbance (O.D)')"
      ]
     },
     "execution_count": 56,
     "metadata": {},
     "output_type": "execute_result"
    },
    {
     "data": {
      "image/png": "[encoded data removed]",
      "text/plain": [
       "<Figure size 640x480 with 1 Axes>"
      ]
     },
     "metadata": {},
     "output_type": "display_data"
    }
   ],
   "source": [
    "fig, ax = plt.subplots()\n",
    "df.plot.line(ax = ax, y = 'Fasting_avg',color = 'r', marker = 'o', yerr = 'Fasting_sem', capsize=5)\n",
    "df.plot.line(ax = ax, y = 'Nonfasting_avg',color = 'b', marker = 'o', yerr = 'Nonfasting_sem', capsize=5)\n",
    "ax.set_xlabel(\"Time (hrs)\")\n",
    "ax.set_ylabel(\"Absorbance (O.D)\")"
   ]
  },
  {
   "cell_type": "code",
   "execution_count": null,
   "id": "17e2e2ef-57c9-4e2b-b21f-20e6496d4b24",
   "metadata": {},
   "outputs": [],
   "source": []
  }
 ],
 "metadata": {
  "kernelspec": {
   "display_name": "Python 3 (ipykernel)",
   "language": "python",
   "name": "python3"
  },
  "language_info": {
   "codemirror_mode": {
    "name": "ipython",
    "version": 3
   },
   "file_extension": ".py",
   "mimetype": "text/x-python",
   "name": "python",
   "nbconvert_exporter": "python",
   "pygments_lexer": "ipython3",
   "version": "3.10.12"
  }
 },
 "nbformat": 4,
 "nbformat_minor": 5
}
